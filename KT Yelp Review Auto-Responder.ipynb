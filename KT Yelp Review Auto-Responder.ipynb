{
 "cells": [
  {
   "cell_type": "markdown",
   "id": "4929f09c",
   "metadata": {},
   "source": [
    "# KT Yelp Review Auto-Responder"
   ]
  },
  {
   "cell_type": "code",
   "execution_count": 136,
   "id": "bca15528",
   "metadata": {},
   "outputs": [],
   "source": [
    "import requests\n",
    "import pandas as pd\n",
    "import numpy as np\n",
    "import matplotlib.pyplot as plt\n",
    "import seaborn as sns\n",
    "\n",
    "from bs4 import BeautifulSoup\n",
    "import re\n",
    "import html\n",
    "import json\n",
    "from datetime import datetime, timedelta\n",
    "\n",
    "import spacy\n",
    "from spacytextblob.spacytextblob import SpacyTextBlob"
   ]
  },
  {
   "cell_type": "code",
   "execution_count": 84,
   "id": "e8a917a3",
   "metadata": {},
   "outputs": [],
   "source": [
    "locations_df_temp = pd.read_excel(\"KT Locations Data.xlsx\")\n",
    "locations_df = locations_df_temp.copy()\n",
    "business_ids = locations_df['Yelp_Bus_Id'].tolist()\n",
    "reviews_data = []\n",
    "\n",
    "current_date = datetime.now()\n",
    "three_months_ago = current_date - timedelta(days=90)"
   ]
  },
  {
   "cell_type": "markdown",
   "id": "eb43c5be",
   "metadata": {},
   "source": [
    "## Web Scraping"
   ]
  },
  {
   "cell_type": "code",
   "execution_count": 3,
   "id": "e8751398",
   "metadata": {},
   "outputs": [],
   "source": [
    "# given a 'list', list_search searches for the given string 'term' and will output whatever is in the position \n",
    "# 'num' off of the position of 'term'\n",
    "def list_search(list, term, num):\n",
    "    \n",
    "    indices = [index for index, item in enumerate(list) if item == term]\n",
    "    index = indices[0]\n",
    "    target_val = list[index + num]\n",
    "    \n",
    "    return target_val"
   ]
  },
  {
   "cell_type": "code",
   "execution_count": 4,
   "id": "d09b26c1",
   "metadata": {},
   "outputs": [],
   "source": [
    "# pulls the 10 most recent reviews from yelp page given business_id and outputs them as a df\n",
    "def yelp_review_scraper(business_id):   \n",
    "    search_url = f\"https://www.yelp.com/biz/{business_id}?sort_by=date_desc\"\n",
    "    search_response = requests.get(search_url)\n",
    "\n",
    "    # Check if the request was successful (status code 200)\n",
    "    if search_response.status_code == 200:\n",
    "        soup = BeautifulSoup(search_response.text, 'html.parser')\n",
    "\n",
    "    # find matches for set pattern\n",
    "    soup_string = str(soup)\n",
    "    soup_string = soup_string.replace('null', '\"%\"')\n",
    "    pattern = r'\"reviews\":\\[(.*?)\\](.*?)\\](.*?)\\[(.*?)\\}(.*?)\\}(.*?)\\}(.*?)\\}(.*?)\\}(.*?)\\}(.*?)\\}(.*?)\\[(.*?)\\}(.*?)\\}(.*?)\\}(.*?)\\}(.*?)\\}(.*?)\\}(.*?)\\}(.*?)\\[(.*?)\\}(.*?)\\}(.*?)\\}(.*?)\\}(.*?)\\}(.*?)\\}(.*?)\\}(.*?)\\[(.*?)\\}(.*?)\\}(.*?)\\}(.*?)\\}(.*?)\\}(.*?)\\}(.*?)\\}(.*?)\\[(.*?)\\}(.*?)\\}(.*?)\\}(.*?)\\}(.*?)\\}(.*?)\\}(.*?)\\}(.*?)\\[(.*?)\\}(.*?)\\}(.*?)\\}(.*?)\\}(.*?)\\}(.*?)\\}(.*?)\\}(.*?)\\[(.*?)\\}(.*?)\\}(.*?)\\}(.*?)\\}(.*?)\\}(.*?)\\}(.*?)\\}(.*?)\\[(.*?)\\}(.*?)\\}(.*?)\\}(.*?)\\}(.*?)\\}(.*?)\\}(.*?)\\}(.*?)\\[(.*?)\\}(.*?)\\}(.*?)\\}(.*?)\\}(.*?)\\}(.*?)\\}(.*?)\\}(.*?)\\[(.*?)\\}(.*?)\\}(.*?)\\}(.*?)\\}(.*?)\\}(.*?)\\}(.*?)\\}(.*?)\\[(.*?)\\}(.*?)\\}(.*?)\\}(.*?)\\}(.*?)\\}(.*?)\\}(.*?)\\}(.*?)\\[(.*?)\\}(.*?)\\}(.*?)\\}(.*?)\\}(.*?)\\}(.*?)\\}(.*?)\\}(.*?)\\[(.*?)\\}(.*?)\\}(.*?)\\}(.*?)\\}(.*?)\\}(.*?)\\}(.*?)\\}(.*?)\\[(.*?)\\}(.*?)\\}(.*?)\\}(.*?)\\}(.*?)\\}(.*?)\\}(.*?)\\}(.*?)\\[(.*?)\\}(.*?)\\}(.*?)\\}(.*?)\\}(.*?)\\}(.*?)\\}(.*?)\\}(.*?)\\[(.*?)\\}(.*?)\\}(.*?)\\}(.*?)\\}(.*?)\\}(.*?)\\}(.*?)\\}(.*?)\\[(.*?)\\}(.*?)\\}(.*?)\\}(.*?)\\}(.*?)\\}(.*?)\\}(.*?)\\}(.*?)\\[(.*?)\\}(.*?)\\}(.*?)\\}(.*?)\\}(.*?)\\}(.*?)\\}(.*?)\\}(.*?)\\[(.*?)\\}(.*?)\\}(.*?)\\}(.*?)\\}(.*?)\\}(.*?)\\}(.*?)\\}(.*?)\\['\n",
    "    matches = re.findall(pattern, soup_string)\n",
    "\n",
    "    # convert tuple matches in match to list\n",
    "    matches_new = [list(t) for t in matches]\n",
    "\n",
    "    # cut lists at stop list to get only the data we need\n",
    "    stop_phrase = '\"tags\":'\n",
    "\n",
    "    new_list = []\n",
    "    current_sublist = []\n",
    "\n",
    "    for item in matches_new[0]:\n",
    "        if stop_phrase in item:\n",
    "            if current_sublist:\n",
    "                current_sublist.append(item)\n",
    "                new_list.append(current_sublist)\n",
    "            current_sublist = []\n",
    "        else:\n",
    "            current_sublist.append(item)\n",
    "\n",
    "    if current_sublist:\n",
    "        new_list.append(current_sublist)\n",
    "\n",
    "    # handle the issue of nested lists\n",
    "    too_many_lists = [[\"\".join(sublist)] for sublist in new_list]\n",
    "    flattened_list = [item for sublist in too_many_lists for item in sublist]\n",
    "    filtered_list = [item for item in flattened_list if stop_phrase in item]\n",
    "\n",
    "    # extract the data we actually want from individual review JSON data\n",
    "    names = []\n",
    "    review_texts = []\n",
    "    dates = []\n",
    "    ratings = []\n",
    "    review_ids = []\n",
    "    already_replieds = []\n",
    "\n",
    "    for match in filtered_list:\n",
    "                filtered_list = match.split('\"')\n",
    "                filtered_list = [item for item in filtered_list if item != ',']\n",
    "                name = list_search(filtered_list, 'markupDisplayName', 2)\n",
    "                review_text = list_search(filtered_list, 'text', 2)\n",
    "                date = datetime.strptime(list_search(filtered_list, 'localizedDate', 2), '%m/%d/%Y')\n",
    "                rating = int(list_search(filtered_list, 'rating', 1).strip(':,'))\n",
    "                review_id = list_search(filtered_list, 'id', 2)\n",
    "            \n",
    "                businessOwnerReplies = list_search(filtered_list, 'businessOwnerReplies', 2)\n",
    "            \n",
    "                if businessOwnerReplies == '%':\n",
    "                    already_replied = False\n",
    "                else:\n",
    "                    already_replied = True\n",
    "                names.append(name)\n",
    "                review_texts.append(review_text)\n",
    "                dates.append(date)\n",
    "                ratings.append(rating)\n",
    "                review_ids.append(review_id)\n",
    "                already_replieds.append(already_replied)\n",
    "            \n",
    "    data = {\n",
    "        \"names\": names,\n",
    "        \"review_text\": review_texts,\n",
    "        \"date\": dates,\n",
    "        \"rating\": ratings,\n",
    "        \"review_id\": review_ids,\n",
    "        \"already_replied\": already_replieds\n",
    "    }\n",
    "\n",
    "    df = pd.DataFrame(data)\n",
    "\n",
    "    return df           "
   ]
  },
  {
   "cell_type": "code",
   "execution_count": 7,
   "id": "58987a58",
   "metadata": {},
   "outputs": [],
   "source": [
    "dfs = []\n",
    "\n",
    "# Loop through each business_id\n",
    "for business_id in business_ids:\n",
    "    df = yelp_review_scraper(business_id)\n",
    "    if df is not None:\n",
    "        df['business_id'] = business_id\n",
    "        dfs.append(df)"
   ]
  },
  {
   "cell_type": "code",
   "execution_count": 116,
   "id": "8c26fd05",
   "metadata": {},
   "outputs": [
    {
     "name": "stderr",
     "output_type": "stream",
     "text": [
      "C:\\Users\\schwa\\AppData\\Local\\Temp\\ipykernel_16808\\1401088908.py:2: FutureWarning: Behavior when concatenating bool-dtype and numeric-dtype arrays is deprecated; in a future version these will cast to object dtype (instead of coercing bools to numeric values). To retain the old behavior, explicitly cast bool-dtype arrays to numeric dtype.\n",
      "  yelp_reviews = pd.concat(dfs, ignore_index=True)\n"
     ]
    }
   ],
   "source": [
    "# Concatenate all the DataFrames in the list\n",
    "yelp_reviews = pd.concat(dfs, ignore_index=True)\n",
    "\n",
    "# Replace business_id with Clinic in df\n",
    "merged_df = yelp_reviews.merge(locations_df[['Yelp_Bus_Id', 'Clinic']], left_on='business_id', right_on='Yelp_Bus_Id', how='left')\n",
    "\n",
    "# Drop the 'business_id' column and rename the 'Clinic' column\n",
    "merged_df.drop(columns=['business_id'], inplace=True)\n",
    "merged_df.rename(columns={'Yelp_Bus_Id': 'business_id'}, inplace=True)\n",
    "yelp_reviews = merged_df\n",
    "\n",
    "yelp_reviews['review_text'] = yelp_reviews['review_text'].apply(lambda x: x.replace('\\xa0', ''))\n",
    "yelp_reviews['review_text'] = yelp_reviews['review_text'].apply(lambda x: x.replace('&amp;#39;', \"'\"))\n",
    "yelp_reviews['review_text'] = yelp_reviews['review_text'].apply(lambda x: x.replace('<br&gt;', ''))\n"
   ]
  },
  {
   "cell_type": "code",
   "execution_count": 117,
   "id": "99bc1a84",
   "metadata": {
    "scrolled": true
   },
   "outputs": [
    {
     "data": {
      "text/html": [
       "<div>\n",
       "<style scoped>\n",
       "    .dataframe tbody tr th:only-of-type {\n",
       "        vertical-align: middle;\n",
       "    }\n",
       "\n",
       "    .dataframe tbody tr th {\n",
       "        vertical-align: top;\n",
       "    }\n",
       "\n",
       "    .dataframe thead th {\n",
       "        text-align: right;\n",
       "    }\n",
       "</style>\n",
       "<table border=\"1\" class=\"dataframe\">\n",
       "  <thead>\n",
       "    <tr style=\"text-align: right;\">\n",
       "      <th></th>\n",
       "      <th>names</th>\n",
       "      <th>review_text</th>\n",
       "      <th>date</th>\n",
       "      <th>rating</th>\n",
       "      <th>review_id</th>\n",
       "      <th>already_replied</th>\n",
       "      <th>business_id</th>\n",
       "      <th>Clinic</th>\n",
       "    </tr>\n",
       "  </thead>\n",
       "  <tbody>\n",
       "    <tr>\n",
       "      <th>0</th>\n",
       "      <td>Elizabeth F.</td>\n",
       "      <td>This office new staff is horrible. I used to l...</td>\n",
       "      <td>2023-09-22</td>\n",
       "      <td>1.0</td>\n",
       "      <td>YF6jJ3EZtimxRcpWDgRM0Q</td>\n",
       "      <td>0.0</td>\n",
       "      <td>kids-and-teens-medical-group-northridge-northr...</td>\n",
       "      <td>Northridge</td>\n",
       "    </tr>\n",
       "    <tr>\n",
       "      <th>1</th>\n",
       "      <td>Martha G.</td>\n",
       "      <td>Dr Benjamin is the best she so nice and patien...</td>\n",
       "      <td>2023-03-19</td>\n",
       "      <td>5.0</td>\n",
       "      <td>4zb5jC0Y8vium32lovjqpQ</td>\n",
       "      <td>1.0</td>\n",
       "      <td>kids-and-teens-medical-group-northridge-northr...</td>\n",
       "      <td>Northridge</td>\n",
       "    </tr>\n",
       "    <tr>\n",
       "      <th>2</th>\n",
       "      <td>Ehis I.</td>\n",
       "      <td>This place should be closed honestly , the sta...</td>\n",
       "      <td>2023-03-07</td>\n",
       "      <td>1.0</td>\n",
       "      <td>uxNYDRtjCawALeK64CkE6w</td>\n",
       "      <td>1.0</td>\n",
       "      <td>kids-and-teens-medical-group-northridge-northr...</td>\n",
       "      <td>Northridge</td>\n",
       "    </tr>\n",
       "    <tr>\n",
       "      <th>3</th>\n",
       "      <td>Richard C.</td>\n",
       "      <td>They don't deserve 1 star, yelp should allow 0...</td>\n",
       "      <td>2022-12-28</td>\n",
       "      <td>1.0</td>\n",
       "      <td>xkyt-QoHzSvsvbWYsJnWDw</td>\n",
       "      <td>1.0</td>\n",
       "      <td>kids-and-teens-medical-group-northridge-northr...</td>\n",
       "      <td>Northridge</td>\n",
       "    </tr>\n",
       "    <tr>\n",
       "      <th>4</th>\n",
       "      <td>Diana D.</td>\n",
       "      <td>We had to do a blood test for our daughter and...</td>\n",
       "      <td>2022-11-18</td>\n",
       "      <td>5.0</td>\n",
       "      <td>OhwsOar1NOrXrwwJu4cCxw</td>\n",
       "      <td>1.0</td>\n",
       "      <td>kids-and-teens-medical-group-northridge-northr...</td>\n",
       "      <td>Northridge</td>\n",
       "    </tr>\n",
       "    <tr>\n",
       "      <th>...</th>\n",
       "      <td>...</td>\n",
       "      <td>...</td>\n",
       "      <td>...</td>\n",
       "      <td>...</td>\n",
       "      <td>...</td>\n",
       "      <td>...</td>\n",
       "      <td>...</td>\n",
       "      <td>...</td>\n",
       "    </tr>\n",
       "    <tr>\n",
       "      <th>98</th>\n",
       "      <td>Maria B.</td>\n",
       "      <td>I scheduled an appointment and specified and a...</td>\n",
       "      <td>2023-08-18</td>\n",
       "      <td>1.0</td>\n",
       "      <td>WBckyR48WhpjM5jVnPr75A</td>\n",
       "      <td>1.0</td>\n",
       "      <td>kids-and-teens-medical-group-pico-rivera-pico-...</td>\n",
       "      <td>Pico Rivera</td>\n",
       "    </tr>\n",
       "    <tr>\n",
       "      <th>99</th>\n",
       "      <td>Emily R.</td>\n",
       "      <td>I was in yesterday to see Dr Man and let me te...</td>\n",
       "      <td>2023-06-28</td>\n",
       "      <td>5.0</td>\n",
       "      <td>z5xb3-6aBisThXgNhARyCA</td>\n",
       "      <td>0.0</td>\n",
       "      <td>kids-and-teens-medical-group-pico-rivera-pico-...</td>\n",
       "      <td>Pico Rivera</td>\n",
       "    </tr>\n",
       "    <tr>\n",
       "      <th>100</th>\n",
       "      <td>Monica R.</td>\n",
       "      <td>This 3rd party shit is the stupidest thing I'v...</td>\n",
       "      <td>2023-06-09</td>\n",
       "      <td>1.0</td>\n",
       "      <td>mCXcwAb-gICj3maVPJEGjw</td>\n",
       "      <td>0.0</td>\n",
       "      <td>kids-and-teens-medical-group-pico-rivera-pico-...</td>\n",
       "      <td>Pico Rivera</td>\n",
       "    </tr>\n",
       "    <tr>\n",
       "      <th>101</th>\n",
       "      <td>Liza S.</td>\n",
       "      <td>I recently have gone to this doctor. I have an...</td>\n",
       "      <td>2021-09-08</td>\n",
       "      <td>1.0</td>\n",
       "      <td>Rk6XLnfoCqdnrYrjGYYI6g</td>\n",
       "      <td>0.0</td>\n",
       "      <td>kids-and-teens-medical-group-arcadia-arcadia</td>\n",
       "      <td>Arcadia</td>\n",
       "    </tr>\n",
       "    <tr>\n",
       "      <th>102</th>\n",
       "      <td>Lorne W.</td>\n",
       "      <td>My children have been seeing Dr. Kim for a few...</td>\n",
       "      <td>2023-08-22</td>\n",
       "      <td>5.0</td>\n",
       "      <td>xV_ugSC3jzbm3e66G4OjCg</td>\n",
       "      <td>0.0</td>\n",
       "      <td>kids-and-teens-medical-group-santa-monica-sant...</td>\n",
       "      <td>Santa Monica</td>\n",
       "    </tr>\n",
       "  </tbody>\n",
       "</table>\n",
       "<p>103 rows × 8 columns</p>\n",
       "</div>"
      ],
      "text/plain": [
       "            names                                        review_text  \\\n",
       "0    Elizabeth F.  This office new staff is horrible. I used to l...   \n",
       "1       Martha G.  Dr Benjamin is the best she so nice and patien...   \n",
       "2         Ehis I.  This place should be closed honestly , the sta...   \n",
       "3      Richard C.  They don't deserve 1 star, yelp should allow 0...   \n",
       "4        Diana D.  We had to do a blood test for our daughter and...   \n",
       "..            ...                                                ...   \n",
       "98       Maria B.  I scheduled an appointment and specified and a...   \n",
       "99       Emily R.  I was in yesterday to see Dr Man and let me te...   \n",
       "100     Monica R.  This 3rd party shit is the stupidest thing I'v...   \n",
       "101       Liza S.  I recently have gone to this doctor. I have an...   \n",
       "102      Lorne W.  My children have been seeing Dr. Kim for a few...   \n",
       "\n",
       "          date  rating               review_id  already_replied  \\\n",
       "0   2023-09-22     1.0  YF6jJ3EZtimxRcpWDgRM0Q              0.0   \n",
       "1   2023-03-19     5.0  4zb5jC0Y8vium32lovjqpQ              1.0   \n",
       "2   2023-03-07     1.0  uxNYDRtjCawALeK64CkE6w              1.0   \n",
       "3   2022-12-28     1.0  xkyt-QoHzSvsvbWYsJnWDw              1.0   \n",
       "4   2022-11-18     5.0  OhwsOar1NOrXrwwJu4cCxw              1.0   \n",
       "..         ...     ...                     ...              ...   \n",
       "98  2023-08-18     1.0  WBckyR48WhpjM5jVnPr75A              1.0   \n",
       "99  2023-06-28     5.0  z5xb3-6aBisThXgNhARyCA              0.0   \n",
       "100 2023-06-09     1.0  mCXcwAb-gICj3maVPJEGjw              0.0   \n",
       "101 2021-09-08     1.0  Rk6XLnfoCqdnrYrjGYYI6g              0.0   \n",
       "102 2023-08-22     5.0  xV_ugSC3jzbm3e66G4OjCg              0.0   \n",
       "\n",
       "                                           business_id        Clinic  \n",
       "0    kids-and-teens-medical-group-northridge-northr...    Northridge  \n",
       "1    kids-and-teens-medical-group-northridge-northr...    Northridge  \n",
       "2    kids-and-teens-medical-group-northridge-northr...    Northridge  \n",
       "3    kids-and-teens-medical-group-northridge-northr...    Northridge  \n",
       "4    kids-and-teens-medical-group-northridge-northr...    Northridge  \n",
       "..                                                 ...           ...  \n",
       "98   kids-and-teens-medical-group-pico-rivera-pico-...   Pico Rivera  \n",
       "99   kids-and-teens-medical-group-pico-rivera-pico-...   Pico Rivera  \n",
       "100  kids-and-teens-medical-group-pico-rivera-pico-...   Pico Rivera  \n",
       "101       kids-and-teens-medical-group-arcadia-arcadia       Arcadia  \n",
       "102  kids-and-teens-medical-group-santa-monica-sant...  Santa Monica  \n",
       "\n",
       "[103 rows x 8 columns]"
      ]
     },
     "execution_count": 117,
     "metadata": {},
     "output_type": "execute_result"
    }
   ],
   "source": [
    "yelp_reviews"
   ]
  },
  {
   "cell_type": "markdown",
   "id": "78906fec",
   "metadata": {},
   "source": [
    "## Sentiment Analysis"
   ]
  },
  {
   "cell_type": "code",
   "execution_count": 137,
   "id": "393b1420",
   "metadata": {},
   "outputs": [
    {
     "data": {
      "text/plain": [
       "<spacytextblob.spacytextblob.SpacyTextBlob at 0x2053975b450>"
      ]
     },
     "execution_count": 137,
     "metadata": {},
     "output_type": "execute_result"
    }
   ],
   "source": [
    "nlp = spacy.load(\"en_core_web_sm\")\n",
    "nlp.add_pipe('spacytextblob')"
   ]
  },
  {
   "cell_type": "code",
   "execution_count": 151,
   "id": "e9681268",
   "metadata": {},
   "outputs": [
    {
     "data": {
      "text/plain": [
       "2.0"
      ]
     },
     "execution_count": 151,
     "metadata": {},
     "output_type": "execute_result"
    }
   ],
   "source": [
    "yelp_reviews['review_text'][5]\n",
    "yelp_reviews['rating'][5]"
   ]
  },
  {
   "cell_type": "code",
   "execution_count": 165,
   "id": "5b40e233",
   "metadata": {},
   "outputs": [
    {
     "data": {
      "text/plain": [
       "\"We were a patient of Dr. Saade for 11 years. When the practice was turned over to &amp;#34;Kids and Teens&amp;#34; earlier this year we started being seen by Dr. Mann. Dr. Mann is an incredibly kind, patient and lovely physician. We were thrilled. Unfortunately, not two months later, Dr. Mann was transferred out of the Kids and Teens network. The office couldn't even tell us who was going to be taking over the practice at this location. Kids and Teens patient services calls are super generic and impersonal. It seems like a large network but there has been zero effort to inform patients of what is happening at this location. We will be looking for a new physician that makes us feel like people - to Kids and Teens we clearly are just numbers.\""
      ]
     },
     "execution_count": 165,
     "metadata": {},
     "output_type": "execute_result"
    }
   ],
   "source": [
    "filtered_reviews = yelp_reviews[(yelp_reviews['rating'] != 1) & (yelp_reviews['rating'] != 5)]\n",
    "filtered_review_texts = filtered_reviews['review_text'].tolist()\n",
    "filtered_review_texts[3]"
   ]
  },
  {
   "cell_type": "code",
   "execution_count": 166,
   "id": "ee55eebf",
   "metadata": {},
   "outputs": [
    {
     "name": "stdout",
     "output_type": "stream",
     "text": [
      "0.2485438803620622\n",
      "0.5257378984651712\n"
     ]
    }
   ],
   "source": [
    "doc = nlp(filtered_review_texts[3])\n",
    "\n",
    "print(doc._.blob.polarity)\n",
    "print(doc._.blob.subjectivity)"
   ]
  },
  {
   "cell_type": "markdown",
   "id": "6415d114",
   "metadata": {},
   "source": [
    "5 - Generic thank you, parse through 5 different ones with rng\n",
    "\n",
    "4 - Generic Thank you, if theres any issue: email\n",
    "\n",
    "1 - if theres any issue email\n",
    "\n",
    "Hi F_name,\n",
    "Thank you...."
   ]
  },
  {
   "cell_type": "markdown",
   "id": "6cf594f2",
   "metadata": {},
   "source": [
    "## Respond to Reviews"
   ]
  },
  {
   "cell_type": "code",
   "execution_count": 167,
   "id": "63a9d830",
   "metadata": {},
   "outputs": [
    {
     "ename": "SyntaxError",
     "evalue": "invalid syntax (96363527.py, line 9)",
     "output_type": "error",
     "traceback": [
      "\u001b[1;36m  Cell \u001b[1;32mIn[167], line 9\u001b[1;36m\u001b[0m\n\u001b[1;33m    response =\u001b[0m\n\u001b[1;37m               ^\u001b[0m\n\u001b[1;31mSyntaxError\u001b[0m\u001b[1;31m:\u001b[0m invalid syntax\n"
     ]
    }
   ],
   "source": [
    "responses = []\n",
    "\n",
    "for index, row in yelp_reviews.iterrows():\n",
    "    review = pd.DataFrame(row).T\n",
    "    already_replied = review['already_replied'].values[0]\n",
    "    date = pd.to_datetime(review['date'].values[0])\n",
    "\n",
    "    if (already_replied == 0) and (date > three_months_ago):\n",
    "        response = \n",
    "        responses.append(response)"
   ]
  },
  {
   "cell_type": "code",
   "execution_count": null,
   "id": "676d0ce5",
   "metadata": {},
   "outputs": [],
   "source": []
  },
  {
   "cell_type": "code",
   "execution_count": null,
   "id": "50175329",
   "metadata": {},
   "outputs": [],
   "source": []
  }
 ],
 "metadata": {
  "kernelspec": {
   "display_name": "Python 3 (ipykernel)",
   "language": "python",
   "name": "python3"
  },
  "language_info": {
   "codemirror_mode": {
    "name": "ipython",
    "version": 3
   },
   "file_extension": ".py",
   "mimetype": "text/x-python",
   "name": "python",
   "nbconvert_exporter": "python",
   "pygments_lexer": "ipython3",
   "version": "3.11.4"
  }
 },
 "nbformat": 4,
 "nbformat_minor": 5
}
